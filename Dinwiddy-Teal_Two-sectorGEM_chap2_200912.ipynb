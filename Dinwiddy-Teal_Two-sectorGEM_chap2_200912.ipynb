{
  "cells": [
    {
      "cell_type": "code",
      "source": [
        "import pandas as pd\n",
        "import copy\n",
        "from matplotlib import pyplot as plt"
      ],
      "outputs": [],
      "execution_count": null,
      "metadata": {
        "execution": {
          "iopub.execute_input": "2020-09-13T00:15:25.386Z",
          "iopub.status.busy": "2020-09-13T00:15:25.368Z",
          "iopub.status.idle": "2020-09-13T00:15:26.405Z",
          "shell.execute_reply": "2020-09-13T00:15:26.413Z"
        }
      }
    },
    {
      "cell_type": "code",
      "source": [
        "params = {'p2':1.2, 'r':0.7, 'w':0.3}\n",
        "\n",
        "inits = {'k':0.8, 'l':2.0, 'p1':1}  #p1: numeraire\n",
        "\n",
        "sys_params = {'x1':0, 'x2':0, 'k1':0, 'k2':0, 'l1':0, 'l2':0, 'pi1':0, 'pi2':0, 'y':0, 'c1':0, 'c2':0}\n",
        "\n",
        "result_df = pd.DataFrame([], columns=sys_params.keys())\n",
        "dict_list = []\n",
        "\n",
        "def system(params, inits):\n",
        "    global sys_params\n",
        "\n",
        "    sys_params['x1'] = (inits['p1']**3) / ((16 * params['w']**2) * params['r'])\n",
        "    sys_params['x2'] = (params['p2']**3) / ((16 * params['r']**2) * params['w'])\n",
        "\n",
        "    sys_params['k1'] = (( params['w'] * (sys_params['x1']**2)) / (2 * params['r'] )) ** (2/3)\n",
        "    sys_params['k2'] = (( 2 * params['w'] * (sys_params['x2']**4)) / params['r']  )**(1/3)\n",
        "\n",
        "    sys_params['l1'] = (( 2 * params['r'] * (sys_params['x1']**4)) / params['w'] )**(1/3)\n",
        "    sys_params['l2'] = (( params['r'] * (sys_params['x2']**2)) / ( 2 * params['w'] ))**(2/3)\n",
        "\n",
        "    sys_params['pi1'] = (inits['p1'] * sys_params['x1']) - (params['r'] * sys_params['k1']) - (params['w'] * sys_params['l1'])\n",
        "    sys_params['pi2'] = (params['p2'] * sys_params['x2']) - (params['r']  * sys_params['k2']) - (params['w'] * sys_params['l2'])\n",
        "\n",
        "    sys_params['y'] = (params['r'] * ( sys_params['k1'] + sys_params['k2'] )) + (params['w'] * ( sys_params['l1'] + sys_params['l2'] )) + sys_params['pi1'] + sys_params['pi2']\n",
        "\n",
        "    sys_params['c1'] = sys_params['y'] / ( 2 * inits['p1'] )\n",
        "    sys_params['c2'] = sys_params['y'] / ( 2 * params['p2'] )\n",
        "    "
      ],
      "outputs": [],
      "execution_count": null,
      "metadata": {
        "execution": {
          "iopub.execute_input": "2020-09-13T00:15:26.447Z",
          "iopub.status.busy": "2020-09-13T00:15:26.434Z",
          "iopub.status.idle": "2020-09-13T00:15:26.460Z",
          "shell.execute_reply": "2020-09-13T00:15:26.540Z"
        }
      }
    },
    {
      "cell_type": "code",
      "source": [
        "def R_up(params):\n",
        "    print(\"Excess Demand for Capital\")\n",
        "    params['r']  += 0.0001\n",
        "\n",
        "def R_down(params):\n",
        "    print(\"Excess Supply of Capital\")\n",
        "    params['r'] -= 0.0001\n",
        "\n",
        "def W_up(params):\n",
        "    print(\"Excess Demand for Labour\")\n",
        "    params['w'] += 0.0001\n",
        "\n",
        "def W_down(params):\n",
        "    print(\"Excess Supply of Labour\")\n",
        "    params['w'] -= 0.0001\n",
        "\n",
        "def P2_up(params):\n",
        "    print(\"Excess Demand for Good2\")\n",
        "    params['p2'] += 0.0001\n",
        "\n",
        "def P2_down(params):\n",
        "    print(\"Excess Supply of Good2\")\n",
        "    params['p2'] -= 0.0001\n"
      ],
      "outputs": [],
      "execution_count": null,
      "metadata": {
        "execution": {
          "iopub.execute_input": "2020-09-13T00:15:26.484Z",
          "iopub.status.busy": "2020-09-13T00:15:26.471Z",
          "iopub.status.idle": "2020-09-13T00:15:26.504Z",
          "shell.execute_reply": "2020-09-13T00:15:26.546Z"
        }
      }
    },
    {
      "cell_type": "code",
      "source": [
        "system(params, inits)\n",
        "\n",
        "N = 0"
      ],
      "outputs": [],
      "execution_count": null,
      "metadata": {
        "execution": {
          "iopub.execute_input": "2020-09-13T00:15:26.520Z",
          "iopub.status.busy": "2020-09-13T00:15:26.515Z",
          "iopub.status.idle": "2020-09-13T00:15:26.531Z",
          "shell.execute_reply": "2020-09-13T00:15:26.550Z"
        }
      }
    },
    {
      "cell_type": "code",
      "source": [
        "while abs( inits['k'] - (sys_params['k1'] + sys_params['k2']) ) >= 0.01 or abs( inits['l'] - (sys_params['l1'] + sys_params['l2']) ) >= 0.01 or abs( sys_params['c2'] - sys_params['x2'] ) >= 0.01:\n",
        "    \n",
        "    N += 1\n",
        "    print(N)\n",
        "    print(\"Iterating!\")\n",
        "    print(params)\n",
        "    print(sys_params)\n",
        "    sys_paramsC = copy.copy(sys_params)\n",
        "    dict_list.append(sys_paramsC)\n",
        " \n",
        "    if (sys_params['k1'] + sys_params['k2']) > inits['k'] and (sys_params['l1'] + sys_params['l2']) > inits['l'] and sys_params['c2'] > sys_params['x2']:\n",
        "                R_up(params)\n",
        "                W_up(params)\n",
        "                P2_up(params)                \n",
        "                system(params, inits)\n",
        "                continue\n",
        "    elif (sys_params['k1'] + sys_params['k2']) > inits['k'] and (sys_params['l1'] + sys_params['l2']) > inits['l'] and sys_params['c2'] < sys_params['x2']:\n",
        "                R_up(params)\n",
        "                W_up(params)\n",
        "                P2_down(params)\n",
        "                system(params, inits)\n",
        "                continue\n",
        "    elif (sys_params['k1'] + sys_params['k2']) > inits['k'] and (sys_params['l1'] + sys_params['l2']) < inits['l'] and sys_params['c2'] > sys_params['x2']:\n",
        "                R_up(params)\n",
        "                W_down(params)\n",
        "                P2_up(params)\n",
        "                system(params, inits)\n",
        "                continue\n",
        "    elif (sys_params['k1'] + sys_params['k2']) > inits['k'] and (sys_params['l1'] + sys_params['l2']) < inits['l'] and sys_params['c2'] < sys_params['x2']:\n",
        "                R_up(params)\n",
        "                W_down(params)\n",
        "                P2_down(params)\n",
        "                system(params, inits)\n",
        "                continue\n",
        "    elif (sys_params['k1'] + sys_params['k2']) < inits['k'] and (sys_params['l1'] + sys_params['l2']) > inits['l'] and sys_params['c2'] > sys_params['x2']:\n",
        "                R_down(params)\n",
        "                W_up(params)\n",
        "                P2_up(params)\n",
        "                system(params, inits)\n",
        "                continue\n",
        "    elif (sys_params['k1'] + sys_params['k2']) < inits['k'] and (sys_params['l1'] + sys_params['l2']) > inits['l'] and sys_params['c2'] < sys_params['x2']:\n",
        "                R_down(params)\n",
        "                W_up(params)\n",
        "                P2_down(params)\n",
        "                system(params, inits)\n",
        "                continue\n",
        "    elif (sys_params['k1'] + sys_params['k2']) < inits['k'] and (sys_params['l1'] + sys_params['l2']) < inits['l'] and sys_params['c2'] > sys_params['x2']:\n",
        "                R_down(params)\n",
        "                W_down(params)\n",
        "                P2_up(params)\n",
        "                system(params, inits)\n",
        "                continue\n",
        "    elif (sys_params['k1'] + sys_params['k2']) < inits['k'] and (sys_params['l1'] + sys_params['l2']) < inits['l'] and sys_params['c2'] < sys_params['x2']:\n",
        "                R_down(params)\n",
        "                W_down(params)\n",
        "                P2_down(params)\n",
        "                system(params, inits)\n",
        "                continue\n",
        "    else:\n",
        "        pass\n",
        "                       \n",
        "else:\n",
        "    print(\"Iterated!\")\n",
        "    print(inits)\n",
        "    print(params)\n",
        "    print(sys_params)\n",
        "    sys_paramsC = copy.copy(sys_params)\n",
        "    dict_list.append(sys_paramsC)\n",
        "    print([sys_params['c1'], sys_params['x1']])\n"
      ],
      "outputs": [],
      "execution_count": null,
      "metadata": {
        "execution": {
          "iopub.execute_input": "2020-09-13T00:15:26.564Z",
          "iopub.status.busy": "2020-09-13T00:15:26.559Z",
          "iopub.status.idle": "2020-09-13T00:15:29.989Z",
          "shell.execute_reply": "2020-09-13T00:15:30.411Z"
        }
      }
    },
    {
      "cell_type": "code",
      "source": [
        "result_df = pd.concat([result_df, pd.DataFrame.from_dict(dict_list)])\n",
        "print(result_df[['c1', 'x1']])\n",
        "\n",
        "result_df[['c1', 'x1']].plot()\n",
        "plt.show()\n"
      ],
      "outputs": [],
      "execution_count": null,
      "metadata": {
        "jupyter": {
          "outputs_hidden": false,
          "source_hidden": false
        },
        "nteract": {
          "transient": {
            "deleting": false
          }
        },
        "execution": {
          "iopub.status.busy": "2020-09-13T00:15:30.004Z",
          "iopub.execute_input": "2020-09-13T00:15:30.016Z",
          "iopub.status.idle": "2020-09-13T00:15:30.048Z",
          "shell.execute_reply": "2020-09-13T00:15:30.418Z"
        }
      }
    },
    {
      "cell_type": "code",
      "source": [],
      "outputs": [],
      "execution_count": null,
      "metadata": {}
    }
  ],
  "metadata": {
    "kernelspec": {
      "display_name": "Python 3",
      "language": "python",
      "name": "python3"
    },
    "language_info": {
      "name": "python",
      "version": "3.7.3",
      "mimetype": "text/x-python",
      "codemirror_mode": {
        "name": "ipython",
        "version": 3
      },
      "pygments_lexer": "ipython3",
      "nbconvert_exporter": "python",
      "file_extension": ".py"
    },
    "nteract": {
      "version": "0.25.0"
    }
  },
  "nbformat": 4,
  "nbformat_minor": 1
}