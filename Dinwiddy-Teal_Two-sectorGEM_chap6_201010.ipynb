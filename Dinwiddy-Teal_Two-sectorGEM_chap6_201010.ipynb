{
  "cells": [
    {
      "cell_type": "code",
      "source": [
        "import pandas as pd\n",
        "import copy\n",
        "from matplotlib import pyplot as plt"
      ],
      "outputs": [],
      "execution_count": null,
      "metadata": {
        "execution": {
          "iopub.execute_input": "2020-10-10T02:32:26.065Z",
          "iopub.status.busy": "2020-10-10T02:32:26.051Z",
          "iopub.status.idle": "2020-10-10T02:32:26.076Z",
          "shell.execute_reply": "2020-10-10T02:32:26.162Z"
        }
      }
    },
    {
      "cell_type": "code",
      "source": [
        "params = {'k':0.8, 'l':2.0, 'kg':0.1, 'lg':0.2, 'pw1':1.4, 'pw2':1.6, 'f':1.0}\n",
        "\n",
        "taxes = {'ty':0.0, 'tc':0.1, 'tm':0.0}  #ty: '0' is an initial value (endogenous)\n",
        "\n",
        "sys_params = {'x1':0, 'x2':0, 'k1':0, 'k2':0, 'l1':0, 'l2':0, 'p1':0, 'q1':0, 'p2':0, 'r':0, 'w':0, 'uk1':0, 'uk2':0, 'ul1':0, 'ul2':0, 'y':0, 'c1':0, 'c2':0, 'm':0, 'e':0, 'bp':0, 'g':0, 't':0, 'PSB':0}\n",
        "\n",
        "result_df = pd.DataFrame([], columns=sys_params.keys())\n",
        "dict_list = []\n",
        "\n",
        "def system(params, taxess):\n",
        "    global sys_params\n",
        "\n",
        "    g2 = (params['kg']**0.5) * (params['lg']**0.5)\n",
        "    kx = params['k'] - params['kg']\n",
        "    lx = params['l'] - params['lg']\n",
        "    \n",
        "    sys_params['p1'] = params['pw1'] * params['f']\n",
        "    sys_params['q1'] = sys_params['p1'] + taxes['tc']\n",
        "    sys_params['p2'] = params['pw2'] * params['f'] + taxes['tm']\n",
        "\n",
        "    sys_params['r'] = ((sys_params['p2']**3) * ((1/3)**0.75 + 3**0.25)**2) / (8 * sys_params['p1']**2)\n",
        "    sys_params['w'] = ( 2 * (sys_params['p1']**2)) / (sys_params['p2'] * ((1/3)**0.75 + 3**0.25)**2)\n",
        "\n",
        "    sys_params['ul1'] = ( 3 * sys_params['r'] / sys_params['w'])**0.25\n",
        "    sys_params['ul2'] = (sys_params['r'] / sys_params['w']**2)**0.5\n",
        "    sys_params['uk1'] = (sys_params['w'] / (3 * sys_params['r']))**0.75\n",
        "    sys_params['uk2'] = (sys_params['w'] / sys_params['r'])**0.5\n",
        "\n",
        "    a = sys_params['ul1'] * sys_params['uk2'] - sys_params['ul2'] * sys_params['uk1']\n",
        "    sys_params['x1'] = (lx * sys_params['uk2'] - kx * sys_params['ul2']) / a\n",
        "    sys_params['x2'] = (kx * sys_params['ul1'] - lx * sys_params['uk1']) / a\n",
        "\n",
        "    sys_params['k1'] = sys_params['uk1'] * sys_params['x1']\n",
        "    sys_params['k2'] = sys_params['uk2'] * sys_params['x2']\n",
        "\n",
        "    sys_params['l1'] = sys_params['ul1'] * sys_params['x1']\n",
        "    sys_params['l2'] = sys_params['ul2'] * sys_params['x2']\n",
        "\n",
        "    sys_params['y'] = sys_params['r'] * params['k'] + sys_params['w'] * params['l']  - taxes['ty']\n",
        "\n",
        "    sys_params['c1'] = sys_params['y'] / ( 2 * sys_params['q1'] )\n",
        "    sys_params['c2'] = sys_params['y'] / ( 2 * sys_params['p2'] )\n",
        "    \n",
        "    sys_params['m'] = sys_params['c2'] - sys_params['x2'] - g2\n",
        "    sys_params['e'] = sys_params['x1'] - sys_params['c1']\n",
        "    sys_params['bp'] = params['pw1'] * sys_params['e'] - params['pw2'] * sys_params['m'] # Export: Good1, Import: Good2\n",
        "\n",
        "    sys_params['g'] = sys_params['p2'] * g2 - sys_params['r'] * params['kg'] - sys_params['w'] * params['lg']\n",
        "    sys_params['t'] = taxes['ty'] + taxes['tc'] * sys_params['c1'] + taxes['tm'] * sys_params['m']\n",
        "    \n",
        "    sys_params['PSB'] = sys_params['g'] + sys_params['t']\n",
        "    "
      ],
      "outputs": [],
      "execution_count": null,
      "metadata": {
        "execution": {
          "iopub.execute_input": "2020-10-10T02:32:26.093Z",
          "iopub.status.busy": "2020-10-10T02:32:26.087Z",
          "iopub.status.idle": "2020-10-10T02:32:26.107Z",
          "shell.execute_reply": "2020-10-10T02:32:26.166Z"
        }
      }
    },
    {
      "cell_type": "code",
      "source": [
        "system(params, taxes)\n",
        "\n",
        "N = 0"
      ],
      "outputs": [],
      "execution_count": null,
      "metadata": {
        "execution": {
          "iopub.execute_input": "2020-10-10T02:32:26.125Z",
          "iopub.status.busy": "2020-10-10T02:32:26.118Z",
          "iopub.status.idle": "2020-10-10T02:32:26.136Z",
          "shell.execute_reply": "2020-10-10T02:32:26.171Z"
        }
      }
    },
    {
      "cell_type": "code",
      "source": [
        "while abs(sys_params['PSB']) >= 0.001:\n",
        "    \n",
        "    N += 1\n",
        "    print(N)\n",
        "    print(\"Iterating!\")\n",
        "    print(params)\n",
        "    print(taxes)\n",
        "    print(sys_params)\n",
        "    dict_list.append(copy.copy(sys_params))\n",
        "    #global taxes\n",
        " \n",
        "    if sys_params['PSB'] > 0:\n",
        "        taxes['ty'] = taxes['ty'] - 0.0001\n",
        "        system(params, taxes)\n",
        "        continue\n",
        "        \n",
        "    elif sys_params['PSB'] < 0:\n",
        "        taxes['ty'] = taxes['ty'] + 0.0001\n",
        "        system(params, taxes)\n",
        "        continue\n",
        "        \n",
        "    else:\n",
        "        pass\n",
        "                       \n",
        "else:\n",
        "    print(\"Iterated!\")\n",
        "    print(taxes)\n",
        "    print(params)\n",
        "    print(sys_params)\n",
        "    dict_list.append(copy.copy(sys_params))\n",
        "    print([sys_params['g'], sys_params['t']])\n"
      ],
      "outputs": [],
      "execution_count": null,
      "metadata": {
        "execution": {
          "iopub.execute_input": "2020-10-10T02:32:26.155Z",
          "iopub.status.busy": "2020-10-10T02:32:26.145Z",
          "iopub.status.idle": "2020-10-10T02:32:35.826Z",
          "shell.execute_reply": "2020-10-10T02:32:36.303Z"
        }
      }
    },
    {
      "cell_type": "code",
      "source": [
        "result_df = pd.concat([result_df, pd.DataFrame.from_dict(dict_list)])\n",
        "print(result_df[['g', 't']])\n",
        "\n",
        "result_df[['g', 't']].plot()\n",
        "plt.show()\n"
      ],
      "outputs": [],
      "execution_count": null,
      "metadata": {
        "execution": {
          "iopub.execute_input": "2020-10-10T02:32:35.853Z",
          "iopub.status.busy": "2020-10-10T02:32:35.842Z",
          "iopub.status.idle": "2020-10-10T02:32:35.889Z",
          "shell.execute_reply": "2020-10-10T02:32:36.310Z"
        },
        "jupyter": {
          "outputs_hidden": false,
          "source_hidden": false
        },
        "nteract": {
          "transient": {
            "deleting": false
          }
        }
      }
    },
    {
      "cell_type": "code",
      "source": [],
      "outputs": [],
      "execution_count": null,
      "metadata": {}
    }
  ],
  "metadata": {
    "kernelspec": {
      "display_name": "Python 3",
      "language": "python",
      "name": "python3"
    },
    "language_info": {
      "name": "python",
      "version": "3.7.6",
      "mimetype": "text/x-python",
      "codemirror_mode": {
        "name": "ipython",
        "version": 3
      },
      "pygments_lexer": "ipython3",
      "nbconvert_exporter": "python",
      "file_extension": ".py"
    },
    "nteract": {
      "version": "0.25.0"
    }
  },
  "nbformat": 4,
  "nbformat_minor": 1
}